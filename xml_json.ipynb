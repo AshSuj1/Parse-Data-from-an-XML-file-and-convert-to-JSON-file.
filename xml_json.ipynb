{
 "cells": [
  {
   "cell_type": "markdown",
   "metadata": {},
   "source": [
    "# Parsing Data\n",
    "#### XML\n",
    "\n",
    "Version: 2.0\n",
    "\n",
    "Environment: Python 3.6.3 and Anaconda 4.3.0 (64-bit)\n",
    "\n",
    "Libraries used: \n",
    "* re (for regular expression, included in Anaconda Python 3.6)\n",
    "* json (to create json data)"
   ]
  },
  {
   "cell_type": "markdown",
   "metadata": {},
   "source": [
    "## 1.  Import libraries "
   ]
  },
  {
   "cell_type": "code",
   "execution_count": null,
   "metadata": {},
   "outputs": [],
   "source": [
    "import re\n",
    "import json\n"
   ]
  },
  {
   "cell_type": "markdown",
   "metadata": {
    "collapsed": true
   },
   "source": [
    "## 2. Parse xml File\n",
    "\n",
    "In this section, we will perform the following tasks:\n",
    "* Read the file\n",
    "* Examine the contents of the file\n",
    "* convert the data into a form that can be more easily manipulated\n",
    "* parse data to extract data in a specific format in order to build the sport dictionary"
   ]
  },
  {
   "cell_type": "markdown",
   "metadata": {
    "collapsed": true
   },
   "source": [
    "#### 2.1 Read the file"
   ]
  },
  {
   "cell_type": "code",
   "execution_count": null,
   "metadata": {},
   "outputs": [],
   "source": [
    "xmlFile = 'australian-sport-thesaurus.xml'\n",
    "xmlobj = open(xmlFile, \"r\", encoding=\"utf8\")"
   ]
  },
  {
   "cell_type": "markdown",
   "metadata": {},
   "source": [
    "#### 2.2 Examine the contents\n",
    "\n",
    "We see the parent here is <Terms> followed by child <Term>, then subchilds <Title>, <Description>, <RelatedTerms> ( with its own children nodes <Title> and <Relationship>. It is clear that some <Term> nodes have <RelatedTerms> nodes with multiple <Term> nodes of its own but this is not true for all."
   ]
  },
  {
   "cell_type": "code",
   "execution_count": null,
   "metadata": {},
   "outputs": [],
   "source": [
    "for line in xmlobj:\n",
    "    print(line)\n",
    "    \n"
   ]
  },
  {
   "cell_type": "markdown",
   "metadata": {},
   "source": [
    "#### 2.3 Flatten the xml file into a single list"
   ]
  },
  {
   "cell_type": "code",
   "execution_count": null,
   "metadata": {},
   "outputs": [],
   "source": [
    "# to do this we must read the data again\n",
    "xmlFile = 'australian-sport-thesaurus.xml'\n",
    "xmlobj = open(xmlFile, \"r\", encoding=\"utf8\")\n",
    "\n",
    "# the next step is to build a list of all the lines in the file using a for loop\n",
    "List_lines = []\n",
    "for line in xmlobj:\n",
    "    List_lines.append(line)\n"
   ]
  },
  {
   "cell_type": "code",
   "execution_count": null,
   "metadata": {},
   "outputs": [],
   "source": [
    "print(List_lines[0:50])\n",
    "# we immediatley see that there are various blank spaces and \\n that need to be ridden off , in order to more easily parse the data"
   ]
  },
  {
   "cell_type": "code",
   "execution_count": null,
   "metadata": {},
   "outputs": [],
   "source": [
    "# remove all white space characters at the front or end of the line\n",
    "\n",
    "for x in range(len(List_lines)):\n",
    "    # for each line that fits the pattern\n",
    "    if re.search(\"^\\s|\\s$\", List_lines[x]):\n",
    "        # we remove the white space characters\n",
    "        List_lines[x] = List_lines[x].strip()\n",
    "        List_lines[x] =List_lines[x].replace('\\n', '')\n",
    "        \n",
    "print(List_lines[0:75])\n",
    "print(len(List_lines))"
   ]
  },
  {
   "cell_type": "markdown",
   "metadata": {},
   "source": [
    "#### 2.4 Build a dictionary and code that parses data ina specific format"
   ]
  },
  {
   "cell_type": "code",
   "execution_count": null,
   "metadata": {},
   "outputs": [],
   "source": [
    "# Use a while loop to build teh specific format required for the json file\n",
    "\n",
    "y = 0\n",
    "\n",
    "# Build a dictionary\n",
    "sport = {}\n",
    "sport[\"Thesaurus\"] = []\n",
    "\n",
    "while y < len(List_lines):\n",
    "    # to specify the main title from the related terms title, I have used the pattern with the list to parse the exact title I want\n",
    "    if re.search('<Term>', List_lines[y]):\n",
    "        # use regex search to look for <Term>\n",
    "        if y <= len(List_lines):\n",
    "            # ensure that we are still in range\n",
    "            if re.search('<Title>.*</Title>', List_lines[y + 1]):\n",
    "                # ensure that we are still in range\n",
    "                if y <= len(List_lines):\n",
    "                    # if after <Term> the next 2 list object contains <Title> node and <Description> node then we know that this is the main Title\n",
    "                    if re.search('<Description>', List_lines[y + 2]):\n",
    "                        Title = (re.search('<Title>.*</Title>', List_lines[y + 1]).group(0))\n",
    "                        # use regex split to get at the information contained within the Title\n",
    "                        Title = re.split('<Title>|</Title>', Title)\n",
    "                        Title = Title[1]\n",
    "    # There is only one Description object so we can simply directly parse this information using regex search                    \n",
    "    if re.search('<Description>.*</Description>', List_lines[y]):\n",
    "        Description = (re.search('>.*<', List_lines[y]).group(0))\n",
    "        Description = re.split('>|<', Description)\n",
    "        Description = Description[1]\n",
    "    # Due to related terms having its own title and sometimes having multiplte nodes of information we need to find a specific patter\n",
    "    # having examined the data related terms can have up to 6 Term nodes\n",
    "    # The following data tests whether y is out of range whether Title is conatined within a specific pattern and if there is more than one Title and Relationship for RelatedTerms\n",
    "    if re.search('<RelatedTerms>', List_lines[y]):\n",
    "        if y <= len(List_lines):\n",
    "            if re.search('<Term>', List_lines[y + 1]):\n",
    "                if y <= len(List_lines):\n",
    "                    if re.search('<Title>.*</Title>', List_lines[y + 2]):\n",
    "                        if y <= len(List_lines):\n",
    "                            if re.search('<Relationship>', List_lines[y + 3]):\n",
    "                                Rel_Title = re.search('<Title>.*</Title>', List_lines[y + 2]).group(0)\n",
    "                                Rel_Title = re.split('<Title>|</Title>', Rel_Title)\n",
    "                                Rel_Title = Rel_Title[1]\n",
    "                                Relationship = re.search('<Relationship>.*</Relationship>', List_lines[y + 3]).group(0)\n",
    "                                Relationship = re.split('<Relationship>|</Relationship>', Relationship)              \n",
    "                                Relationship = Relationship[1]\n",
    "                                # After Related Terms Title and Relationship information is found  it is added to Related_Terms list\n",
    "                                Related_Terms = [{\"Relationship\": Relationship, \"Title\":Rel_Title}]\n",
    "                                # If the following if tests are passed then the Related_Terms is further concatenated\n",
    "                                if y <= len(List_lines):\n",
    "                                    if re.search('<Title>.*</Title>', List_lines[y + 6]):\n",
    "                                        Rel_Title2 = re.search('<Title>.*</Title>', List_lines[y + 6]).group(0)\n",
    "                                        Rel_Title2 = re.split('<Title>|</Title>', Rel_Title2)\n",
    "                                        Rel_Title2 = Rel_Title2[1]\n",
    "                                        Relationship2 = re.search('<Relationship>.*</Relationship>', List_lines[y + 7]).group(0)\n",
    "                                        Relationship2 = re.split('<Relationship>|</Relationship>', Relationship2)              \n",
    "                                        Relationship2 = Relationship2[1]\n",
    "                                        Related_Terms = [{\"Relationship\": Relationship, \"Title\":Rel_Title}, {\"Relationship\": Relationship2, \"Title\":Rel_Title2}]\n",
    "                                        if y <= len(List_lines):\n",
    "                                            if re.search('<Title>.*</Title>', List_lines[y + 10]):\n",
    "                                                Rel_Title3 = re.search('<Title>.*</Title>', List_lines[y + 10]).group(0)\n",
    "                                                Rel_Title3 = re.split('<Title>|</Title>', Rel_Title3)\n",
    "                                                Rel_Title3 = Rel_Title3[1]\n",
    "                                                Relationship3 = re.search('<Relationship>.*</Relationship>', List_lines[y + 11]).group(0)\n",
    "                                                Relationship3 = re.split('<Relationship>|</Relationship>', Relationship3)              \n",
    "                                                Relationship3 = Relationship3[1]\n",
    "                                                Related_Terms = [{\"Relationship\": Relationship, \"Title\":Rel_Title}, {\"Relationship\": Relationship2, \"Title\":Rel_Title2}, {\"Relationship\": Relationship3, \"Title\":Rel_Title3}]\n",
    "                                                if y <= len(List_lines):\n",
    "                                                    if re.search('<Title>.*</Title>', List_lines[y + 14]):\n",
    "                                                        Rel_Title4 = re.search('<Title>.*</Title>', List_lines[y + 14]).group(0)\n",
    "                                                        Rel_Title4 = re.split('<Title>|</Title>', Rel_Title4)\n",
    "                                                        Rel_Title4 = Rel_Title4[1]\n",
    "                                                        Relationship4 = re.search('<Relationship>.*</Relationship>', List_lines[y + 15]).group(0)\n",
    "                                                        Relationship4 = re.split('<Relationship>|</Relationship>', Relationship4)              \n",
    "                                                        Relationship4 = Relationship4[1]\n",
    "                                                        Related_Terms = [{\"Relationship\": Relationship, \"Title\":Rel_Title}, {\"Relationship\": Relationship2, \"Title\":Rel_Title2}, {\"Relationship\": Relationship3, \"Title\":Rel_Title3}, {\"Relationship\": Relationship4, \"Title\":Rel_Title4}]\n",
    "                                                        if y <= len(List_lines):\n",
    "                                                            if re.search('<Title>.*</Title>', List_lines[y + 18]):\n",
    "                                                                Rel_Title5 = re.search('<Title>.*</Title>', List_lines[y + 18]).group(0)\n",
    "                                                                Rel_Title5 = re.split('<Title>|</Title>', Rel_Title5)\n",
    "                                                                Rel_Title5 = Rel_Title5[1]\n",
    "                                                                Relationship5 = re.search('<Relationship>.*</Relationship>', List_lines[y + 19]).group(0)\n",
    "                                                                Relationship5 = re.split('<Relationship>|</Relationship>', Relationship5)              \n",
    "                                                                Relationship5 = Relationship5[1]\n",
    "                                                                Related_Terms = [{\"Relationship\": Relationship, \"Title\":Rel_Title}, {\"Relationship\": Relationship2, \"Title\":Rel_Title2}, {\"Relationship\": Relationship3, \"Title\":Rel_Title3}, {\"Relationship\": Relationship4, \"Title\":Rel_Title4}, {\"Relationship\": Relationship5, \"Title\":Rel_Title5}]\n",
    "                                                                if y <= len(List_lines):\n",
    "                                                                    if re.search('<Title>.*</Title>', List_lines[y + 22]):\n",
    "                                                                        Rel_Title6 = re.search('<Title>.*</Title>', List_lines[y + 22]).group(0)\n",
    "                                                                        Rel_Title6 = re.split('<Title>|</Title>', Rel_Title6)\n",
    "                                                                        Rel_Title6 = Rel_Title6[1]\n",
    "                                                                        Relationship6 = re.search('<Relationship>.*</Relationship>', List_lines[y + 23]).group(0)\n",
    "                                                                        Relationship6 = re.split('<Relationship>|</Relationship>', Relationship6)              \n",
    "                                                                        Relationship6 = Relationship6[1]\n",
    "                                                                        Related_Terms = [{\"Relationship\": Relationship, \"Title\":Rel_Title}, {\"Relationship\": Relationship2, \"Title\":Rel_Title2}, {\"Relationship\": Relationship3, \"Title\":Rel_Title3}, {\"Relationship\": Relationship4, \"Title\":Rel_Title4}, {\"Relationship\": Relationship5, \"Title\":Rel_Title5}, {\"Relationship\": Relationship6, \"Title\":Rel_Title6}]\n",
    "        # At the end of the loop the dictionary is built in the following order                                                                \n",
    "        sport[\"Thesaurus\"].append({\"Description\": Description, \"Related Terms\": Related_Terms, \"Title\": Title})\n",
    "    y += 1"
   ]
  },
  {
   "cell_type": "code",
   "execution_count": null,
   "metadata": {},
   "outputs": [],
   "source": [
    "# print out the first 100 items of the dictionary to ensure that the pattern of the xml data has been properly parsed\n",
    "print(sport[\"Thesaurus\"][0:100])"
   ]
  },
  {
   "cell_type": "code",
   "execution_count": null,
   "metadata": {},
   "outputs": [],
   "source": [
    "# print out the last 100 items of the dictionary to ensure that the pattern of the xml data has been properly parsed\n",
    "print(sport[\"Thesaurus\"][-100: ])"
   ]
  },
  {
   "cell_type": "markdown",
   "metadata": {},
   "source": [
    "## 3. Save Data to JSON file"
   ]
  },
  {
   "cell_type": "code",
   "execution_count": null,
   "metadata": {},
   "outputs": [],
   "source": [
    "import json\n",
    "s = json.dumps(sport)\n",
    "\n",
    "with open(\"C://Data//sport.dat\", \"w\") as f:\n",
    "    f.write(s)"
   ]
  },
  {
   "cell_type": "markdown",
   "metadata": {},
   "source": [
    "## 4. Summary\n",
    "\n",
    "The most difficult aspect of parsing this particular xml file was that there were two Title nodes that had values of different parent nodes. Hence in order to parse Title as required a specific pattern had to be found. Parsing the xml file as it is for the Title nodes seemed very difficult as with all the white space characters using regez it was difficult to find a specific pattern. Inorder to rectify this it seemed to make sense to flatten the data and remove all unnecessary white space characters. With the list of all the required objects/nodes of the xml file it was much easier to find a pattern and to collect all the required nodes. The second most difficult aspect of parsing the xml file was collecting multiple Titles and Relationships within the Related Term nodes, this too needed to e rectified by looking for a specific pattern."
   ]
  },
  {
   "cell_type": "markdown",
   "metadata": {},
   "source": [
    "## References\n",
    "* Mastering Python Regular Expressions, Packt Publishing, 2014. ProQuest Ebook Central, https://ebookcentral.proquest.com/lib/monash/detail.action?docID=1644026."
   ]
  }
 ],
 "metadata": {
  "kernelspec": {
   "display_name": "Python 3",
   "language": "python",
   "name": "python3"
  },
  "language_info": {
   "codemirror_mode": {
    "name": "ipython",
    "version": 3
   },
   "file_extension": ".py",
   "mimetype": "text/x-python",
   "name": "python",
   "nbconvert_exporter": "python",
   "pygments_lexer": "ipython3",
   "version": "3.7.1"
  }
 },
 "nbformat": 4,
 "nbformat_minor": 1
}
